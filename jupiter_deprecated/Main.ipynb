{
 "cells": [
  {
   "cell_type": "markdown",
   "id": "d589d0ae-6588-4ec6-9385-128d3cba1df8",
   "metadata": {},
   "source": [
    "# Описание текущей версии программы Corrosion Tool"
   ]
  },
  {
   "cell_type": "markdown",
   "id": "e85c61ec-a5ef-405c-b021-954d0d7e6df5",
   "metadata": {},
   "source": [
    "## Библиотеки"
   ]
  },
  {
   "cell_type": "code",
   "execution_count": 29,
   "outputs": [
    {
     "name": "stdout",
     "output_type": "stream",
     "text": [
      "Requirement already satisfied: thermopack[2.1.0] in c:\\users\\nanatic\\pycharmprojects\\jupiter\\venv\\lib\\site-packages (2.1.0)Note: you may need to restart the kernel to use updated packages.\n"
     ]
    },
    {
     "name": "stderr",
     "output_type": "stream",
     "text": [
      "WARNING: thermopack 2.1.0 does not provide the extra '2.1.0'\n",
      "\n",
      "[notice] A new release of pip available: 22.3.1 -> 23.3.1\n",
      "[notice] To update, run: python.exe -m pip install --upgrade pip\n"
     ]
    },
    {
     "name": "stdout",
     "output_type": "stream",
     "text": [
      "\n",
      "Requirement already satisfied: matplotlib>=2.0 in c:\\users\\nanatic\\pycharmprojects\\jupiter\\venv\\lib\\site-packages (from thermopack[2.1.0]) (3.8.0)\n",
      "Requirement already satisfied: numpy>=1.1 in c:\\users\\nanatic\\pycharmprojects\\jupiter\\venv\\lib\\site-packages (from thermopack[2.1.0]) (1.26.1)\n",
      "Requirement already satisfied: pillow>=6.2.0 in c:\\users\\nanatic\\pycharmprojects\\jupiter\\venv\\lib\\site-packages (from matplotlib>=2.0->thermopack[2.1.0]) (10.1.0)\n",
      "Requirement already satisfied: kiwisolver>=1.0.1 in c:\\users\\nanatic\\pycharmprojects\\jupiter\\venv\\lib\\site-packages (from matplotlib>=2.0->thermopack[2.1.0]) (1.4.5)\n",
      "Requirement already satisfied: cycler>=0.10 in c:\\users\\nanatic\\pycharmprojects\\jupiter\\venv\\lib\\site-packages (from matplotlib>=2.0->thermopack[2.1.0]) (0.12.1)\n",
      "Requirement already satisfied: importlib-resources>=3.2.0 in c:\\users\\nanatic\\pycharmprojects\\jupiter\\venv\\lib\\site-packages (from matplotlib>=2.0->thermopack[2.1.0]) (6.1.0)\n",
      "Requirement already satisfied: packaging>=20.0 in c:\\users\\nanatic\\pycharmprojects\\jupiter\\venv\\lib\\site-packages (from matplotlib>=2.0->thermopack[2.1.0]) (23.2)\n",
      "Requirement already satisfied: pyparsing>=2.3.1 in c:\\users\\nanatic\\pycharmprojects\\jupiter\\venv\\lib\\site-packages (from matplotlib>=2.0->thermopack[2.1.0]) (3.1.1)\n",
      "Requirement already satisfied: fonttools>=4.22.0 in c:\\users\\nanatic\\pycharmprojects\\jupiter\\venv\\lib\\site-packages (from matplotlib>=2.0->thermopack[2.1.0]) (4.43.1)\n",
      "Requirement already satisfied: contourpy>=1.0.1 in c:\\users\\nanatic\\pycharmprojects\\jupiter\\venv\\lib\\site-packages (from matplotlib>=2.0->thermopack[2.1.0]) (1.1.1)\n",
      "Requirement already satisfied: python-dateutil>=2.7 in c:\\users\\nanatic\\pycharmprojects\\jupiter\\venv\\lib\\site-packages (from matplotlib>=2.0->thermopack[2.1.0]) (2.8.2)\n",
      "Requirement already satisfied: zipp>=3.1.0 in c:\\users\\nanatic\\pycharmprojects\\jupiter\\venv\\lib\\site-packages (from importlib-resources>=3.2.0->matplotlib>=2.0->thermopack[2.1.0]) (3.17.0)\n",
      "Requirement already satisfied: six>=1.5 in c:\\users\\nanatic\\pycharmprojects\\jupiter\\venv\\lib\\site-packages (from python-dateutil>=2.7->matplotlib>=2.0->thermopack[2.1.0]) (1.16.0)\n"
     ]
    }
   ],
   "source": [
    "%pip install thermopack==2.1.0"
   ],
   "metadata": {
    "collapsed": false,
    "ExecuteTime": {
     "end_time": "2023-10-23T13:55:47.774773400Z",
     "start_time": "2023-10-23T13:55:45.317754400Z"
    }
   }
  },
  {
   "cell_type": "code",
   "execution_count": 30,
   "id": "8fe2a287-5d53-40f1-92c2-61f5e3caaa92",
   "metadata": {
    "ExecuteTime": {
     "end_time": "2023-10-23T13:55:47.836146Z",
     "start_time": "2023-10-23T13:55:47.773030300Z"
    }
   },
   "outputs": [],
   "source": [
    "from dataclasses import dataclass, field\n",
    "from typing import List\n",
    "from thermopack.cubic import cubic\n",
    "from matplotlib import pyplot as plt\n",
    "import copy\n",
    "import math"
   ]
  },
  {
   "cell_type": "markdown",
   "id": "c69f18c8-9e4b-457e-a2dc-6d2c9d74b3d6",
   "metadata": {},
   "source": [
    "## Структуры"
   ]
  },
  {
   "cell_type": "markdown",
   "id": "53feaaa5-0d91-49b6-95c9-02aaa22e6310",
   "metadata": {},
   "source": [
    "### Класс Tube_point"
   ]
  },
  {
   "cell_type": "markdown",
   "id": "a0b17b73-25f8-4fd5-8913-600b1c320fdb",
   "metadata": {},
   "source": [
    "Класс Tube_point в Python представляет отрезок трубы. Он содержит различные свойства, описывающие характеристики материала, протекающего по трубе в этой конкретном отрезке.\n",
    "Свойства класса Tube_point включают:\n",
    "* **name**: строка, представляющая название материала.\n",
    "* **phase_name**: список строк, представляющих названия фаз, присутствующих нутри отрезкае (например, газ, жидкость).\n",
    "* **number_of_fluids**: целое число, указывающее количество присутствующих фаз.\n",
    "* **temperature**: значение с плавающей точкой, представляющлокальнуюную температ,у в Кельынах.\n",
    "* **pressure**: значение с плавающей точкой, представляющее локальное давл,иПаscal.\n",
    "* **velocity**: значение с плавающей точкой, представляющее скорость смеси, протекающей по трм/скунду.\n",
    "* **diameter**: значение с плавающей точкой, представляющее локальный диаметр,руетрыметрах.\n",
    "* **length**: значение с плавающей точкой, представляющееотрезка трубый точке. Если это конечная точка, длина равна нулю.\n",
    "* **section_type**: целое число, представляющее тип раздела для расчета потерь (в настоящее время не используется).\n",
    "* **molar_composition**: список плавающих значений, представляющих молярный состав смеси.\n",
    "* **molar_masses**: список значений с плавающей запятой, представляющих молярные массы компонентов смеси.\n",
    "* **vapor_componnts**: список с плавающей точкой, представляющий распределение пара по компонентам (сумма равна 1).\n",
    "* **liquid_components**: список значений с плавающей запятой, представляющих распределение жидкости по компонентам (сумма равна 1).\n",
    "* **components_density**: список с плавающей точкой, представляющий распределение плотности по компонентам.\n",
    "* **overall_density**: значение с плавающей точкой, представляющее общую п,тность смеси в кг/м^3.\n",
    "* **overall_vapзначение с плавающей запятойion**: поплавок, представляющий распределение пара по смеси.\n",
    "* **overall_liqзначение с плавающей запятойtion**: поплавок, представляющий распределение жидкости по смеси.\n",
    "* **liquid_viscosities**: список плавающих значений, представляющих вязкость жидких компонентов по компонентам.\n",
    "* **vapor_viscosities**: список значений с плавающей запятой, представляющих вязкость п по компонентамв над компонентами.\n",
    "* **liquid_overall_viscosity**: значение с плавающей запятой, представляющее вязкость жидкой части.\n",
    "* **vapor_overall_viscosity**: значение с плавающей запятой, представляющее вязкость паровой части.\n",
    "* **overall_viscosity**: значение с плавающей точкой, представляющее вязкость смеси.\n",
    "* **flow_mode**: строка, представляющая выбранный режим потока.\n",
    "* **flow_mode_key**: значение с плавающей точкой, представляющее число, используемое для характеристики режима потока.\n",
    "* **flow_mode_friction_factor**: значение с плавающей точкой, представляющее коэффициент трения в режиме потока.\n",
    "* **reynolds_number**: число с плавающей точкой, представляющее число Рейнольдса для потока в данный момент."
   ]
  },
  {
   "cell_type": "code",
   "execution_count": 46,
   "id": "52d86a85-f4aa-4624-9595-1f1bad0ca783",
   "metadata": {
    "ExecuteTime": {
     "end_time": "2023-10-23T14:00:14.659080600Z",
     "start_time": "2023-10-23T14:00:14.627966500Z"
    }
   },
   "outputs": [],
   "source": [
    "@dataclass\n",
    "class Tube_point:\n",
    "    name: str = 'mixture'  # name: string, name of the material\n",
    "    phase_name: List[str] = field(default_factory=lambda: ['gas'])  # phase_name: list of strings, name of phases\n",
    "    number_of_fluids: int = 1  # number_of_fluids: integer, number of phases\n",
    "    temperature: float = 300.0  # T: double, local temperature, Kelvin\n",
    "    pressure: float = 101325.0  # p: double, local pressure, Pascal\n",
    "    velocity: float = 0.5  # v: double, mixture velocity, m/s\n",
    "    diameter: float = 0.1  # D: double, tube local diameter, m\n",
    "    length: float = 10  # length: double, tube length, m. Zero if it's endpoint\n",
    "    section_type = 1  # section type: integer, type of the section for losses calculation, not used yet - enum!\n",
    "    molar_composition: List[float] = field(\n",
    "        default_factory=lambda: [1.0])  # molar_composition: list of doubles, molar composition [probably constant]\n",
    "    molar_masses: List[float] = field(\n",
    "        default_factory=lambda: [1.0])  # molar_masses: list of doubles, molar masses [constant overall]\n",
    "    vapor_components: List[float] = field(default_factory=lambda: [\n",
    "        0.5])  # vapor_components: list of doubles, vapor distribution over components (sum is 1)\n",
    "    liquid_components: List[float] = field(default_factory=lambda: [\n",
    "        0.5])  # liquid_components: list of doubles, liquid distribution over components (sum is 1)\n",
    "    components_density: List[float] = field(\n",
    "        default_factory=lambda: [1.0])  # components_density: list of doubles, density distribution over components\n",
    "    overall_density: float = 1.0  # overall_density: double, overall density, kg/m^3\n",
    "    overall_vapor_fraction: float = 0.5  # overall_vapor_fraction: double, vapor distribution over mixture\n",
    "    overall_liquid_fraction: float = 0.5  # overall_liquid_fraction: double, liquid distribution over mixture\n",
    "    liquid_viscosities: List[float] = field(default_factory=lambda: [\n",
    "        1.0e-3])  # liquid_viscosities: list of doubles, viscosity of liquid parts over components\n",
    "    vapor_viscosities: List[float] = field(default_factory=lambda: [\n",
    "        1.0e-3])  # vapor_viscosities:  list of doubles, viscosity of vapor parts over components\n",
    "    liquid_overall_viscosity: float = 1.0e-3  # liquid_overall_viscosity: double, viscosity of liquid part\n",
    "    vapor_overall_viscosity: float = 1.0e-3  # vapor_overall_viscosity: double, viscosity of vapor part\n",
    "    overall_viscosity: float = 1.0e-3  # overall_viscosity: double, viscosity of mixture\n",
    "    flow_mode: str = \"bubble\"  # flow_mode: string, name of selected flow flow_mode\n",
    "    flow_mode_key: float = 1.0  # flow_mode_key: double, currently XTT, later - other number to characterize flow_mode\n",
    "    flow_mode_friction_factor: float = 1.0  # flow_mode_friction_factor: double, currently from XTT\n",
    "    reynolds_number: float = 10000.0  # reynolds_number: double, Reynolds number for ...\n",
    "\n",
    "    def update_point_state(self):\n",
    "        rk_fluid = cubic('N2,ETOH', 'SRK')  # obsolete\n",
    "        x, y, vap_frac, liq_frac, phase_key = rk_fluid.two_phase_tpflash(self.temperature, self.pressure,\n",
    "                                                                         self.molar_composition)\n",
    "        self.vapor_components = x\n",
    "        self.liquid_components = y\n",
    "        self.overall_vapor_fraction = vap_frac\n",
    "        self.overall_liquid_fraction = liq_frac\n",
    "\n",
    "        temp, = rk_fluid.specific_volume(self.temperature, self.pressure, self.molar_composition, 1)\n",
    "        density_1 = self.molar_masses[0] / temp\n",
    "\n",
    "        temp, = rk_fluid.specific_volume(self.temperature, self.pressure, self.molar_composition, 2)\n",
    "        density_2 = self.molar_masses[1] / temp\n",
    "\n",
    "        self.components_density = [density_1, density_2]\n",
    "        self.overall_density = self.calculate_overall_density()\n",
    "        ethanol_viscosity = ethanol_viscosity_from_temperature(self.temperature)\n",
    "        n2_viscosity = n2_viscosity_from_temperature(self.temperature)\n",
    "        self.liquid_viscosities = [ethanol_viscosity, n2_viscosity]\n",
    "        self.vapor_viscosities = [ethanol_viscosity, n2_viscosity]\n",
    "\n",
    "    def calculate_Re(self):\n",
    "        return self.velocity * self.diameter * self.overall_density / self.overall_viscosity\n",
    "\n",
    "    def calculate_xtt(self):\n",
    "        liquid_density = self.components_density[0]\n",
    "        gas_density = self.components_density[1]\n",
    "        liquid_viscosity = self.liquid_viscosities[0]  # ? liquid_overall_viscosity?\n",
    "        gas_viscosity = self.liquid_viscosities[1]  # ?\n",
    "        velocity = self.velocity\n",
    "        diameter = self.diameter\n",
    "        return ((1.096 / liquid_density) ** 0.5) * ((liquid_density / gas_density) ** 0.25) * (\n",
    "                (gas_viscosity / liquid_viscosity) ** 0.1) * ((velocity / diameter) ** 0.5)\n",
    "\n",
    "    def calculate_overall_density(self):  # необходимо дописать учёт агрегатного состояния\n",
    "        return sum(self.molar_composition[i] * self.components_density[i] for i in range(self.number_of_fluids))\n",
    "\n",
    "    def calculate_lambda(self):\n",
    "        if self.reynolds_number < 2300:\n",
    "            return 64 / self.reynolds_number\n",
    "        else:\n",
    "            return 0.316 / (self.reynolds_number ** 0.25)\n",
    "\n",
    "    def calculate_pressure_loss(self):\n",
    "        xi = self.calculate_lambda() * self.length / self.diameter\n",
    "        return (xi * self.velocity ** 2) * 0.5 * self.overall_density\n",
    "point = Tube_point()\n",
    "point.temperature = 320.0\n",
    "point.pressure = 354637.5\n",
    "point.molar_composition = [0.5,0.5]\n",
    "point.molar_masses = [0.03,0.28]\n",
    "point.velocity = 5.0\n",
    "point.diameter = 0.08\n",
    "point.length = 100"
   ]
  },
  {
   "cell_type": "markdown",
   "id": "5c1ecb07-b698-42c3-81be-771815748187",
   "metadata": {},
   "source": [
    "#### Метод calculate_overall_density"
   ]
  },
  {
   "cell_type": "markdown",
   "id": "0f479fdb-9f2d-4d98-b064-aadd864d3b4a",
   "metadata": {},
   "source": [
    "Вычисляет плотность среды. Реализация одна. На вход подаётся структура данных, из которой берутся мольные доли фаз и плотности фаз (без учета агрегатного состояния, необходимо дописать учёт агрегатного состояния). Далее вычисление происходит по формуле:\n",
    "$$\n",
    "\\rho_{overall}=\\sum\\rho_ix_i\n",
    "$$"
   ]
  },
  {
   "cell_type": "code",
   "execution_count": 32,
   "id": "9ac9b1c9-7450-4927-ac3d-afbb50883743",
   "metadata": {
    "ExecuteTime": {
     "end_time": "2023-10-23T13:55:47.855017900Z",
     "start_time": "2023-10-23T13:55:47.808625800Z"
    }
   },
   "outputs": [
    {
     "name": "stdout",
     "output_type": "stream",
     "text": [
      "Overall density : 0.5\n"
     ]
    }
   ],
   "source": [
    "print(\"Overall density : \" + str(point.calculate_overall_density()))"
   ]
  },
  {
   "cell_type": "markdown",
   "id": "0f389d30-0dc9-4cc1-acdb-9c56b9f5cb00",
   "metadata": {},
   "source": [
    "#### Метод update_point_state"
   ]
  },
  {
   "cell_type": "markdown",
   "id": "ec1cdcdd-29f2-41ee-bacd-076daea44bc8",
   "metadata": {},
   "source": [
    "Выполняет расчёты текущих свойств (вязкости – внешними свойствами, см. выше), плотность и агрегатное состояние фаз – через thermopack;). Вызывается при изменении параметров температуры и давления для корректировки остальных характеристик трубы."
   ]
  },
  {
   "cell_type": "markdown",
   "id": "a504b212-2042-48af-8cf7-43f314005c44",
   "metadata": {},
   "source": [
    "## Функции"
   ]
  },
  {
   "cell_type": "markdown",
   "id": "8a137d8b-5098-40a0-9b96-94df3238ad01",
   "metadata": {},
   "source": [
    "### Функция calculate_xtt¶"
   ]
  },
  {
   "cell_type": "markdown",
   "id": "54423a88-e180-49ce-8d01-98dd27fb8531",
   "metadata": {},
   "source": [
    "Рассчитывает параметр, по которому можно получить режим течения. Применена простейшая корреляция, в дальнейшем потребует корректировки.\n",
    "Есть 2 реализации, одна- с параметрами, вторая – со структурой, эти 2 реализации не отличаются ничем, кроме способа хранения данных. На вход подаётся плотности и вязкости жидкой и газообразной фазы, а также скорость среды и диаметр трубы. На выходе – параметр xtt (параметр Локхарта-Мартинелли), который рассчитывается как\n",
    "\n",
    "$$ \n",
    "Xtt=\\sqrt{\\frac{1.096}{\\rho_{Liquid}}}\\cdot\\left[\\frac{\\rho_{Liquid}}{\\rho_{Gas}}\\right]^{0.25}\\cdot\\left[\\frac{\\mu_{Gas}}{\\mu_{Liquid}}\\right]^{0.1}\\cdot\\sqrt{\\frac{V_{Liquid}}{D}}\n",
    "$$"
   ]
  },
  {
   "cell_type": "code",
   "execution_count": 33,
   "id": "72c3fb6f-55c8-40cd-847a-6c560c73a925",
   "metadata": {
    "ExecuteTime": {
     "end_time": "2023-10-23T13:55:47.855017900Z",
     "start_time": "2023-10-23T13:55:47.836146Z"
    }
   },
   "outputs": [
    {
     "name": "stdout",
     "output_type": "stream",
     "text": [
      "XTT: 1.047850904778871\n"
     ]
    }
   ],
   "source": [
    "def calculate_xtt(liquid_density, gas_density, liquid_viscosity, gas_viscosity, velocity, diameter):\n",
    "    return ((1.096 / liquid_density) ** 0.5) * ((liquid_density / gas_density) ** 0.25) * (\n",
    "            (gas_viscosity / liquid_viscosity) ** 0.1) * ((velocity / diameter) ** 0.5)\n",
    "    \n",
    "print(\"XTT: \"+str(calculate_xtt(397.3 ,3.9 ,0.001, 0.0001, 5.0, 0.08)))"
   ]
  },
  {
   "cell_type": "markdown",
   "id": "75b5ae97-3aa5-41eb-a901-280a4a80b8b2",
   "metadata": {},
   "source": [
    "### Функция calculate_viscosity"
   ]
  },
  {
   "cell_type": "markdown",
   "id": "f6bc08f8-0bb2-4b2e-8c35-8df520f95af2",
   "metadata": {},
   "source": [
    "Вычисляет общую вязкость среды по вязкости жидкой и газообразной фаз и параметру friction factor. Реализация одна. На вход подаются 2 значения вязкости (жидкости и газа) и параметр friction factor (ff). Далее вычисление происходит по формуле:\n",
    "$$\n",
    "\\mu_{Total}=ff\\cdot\\mu_{Liquid}+\\left(1-ff\\right)\\cdot\\mu_{Gas}$$\n"
   ]
  },
  {
   "cell_type": "code",
   "execution_count": 34,
   "id": "5b5d2a5b-4990-4025-856e-6c8fb341e775",
   "metadata": {
    "ExecuteTime": {
     "end_time": "2023-10-23T13:55:47.855017900Z",
     "start_time": "2023-10-23T13:55:47.841610700Z"
    }
   },
   "outputs": [
    {
     "name": "stdout",
     "output_type": "stream",
     "text": [
      "Viscosity: 0.001\n"
     ]
    }
   ],
   "source": [
    "def calculate_viscosity(liquid_viscosity, gas_viscosity, friction_factor):\n",
    "    return friction_factor * liquid_viscosity + (1 - friction_factor) * gas_viscosity\n",
    "\n",
    "print(\"Viscosity: \"+str(calculate_viscosity(0.001, 0.0001, 1)))"
   ]
  },
  {
   "cell_type": "markdown",
   "id": "c6efb5ed-ba39-49e4-b262-eed73da252f2",
   "metadata": {},
   "source": [
    "### Функция calculate_Re"
   ]
  },
  {
   "cell_type": "markdown",
   "id": "35358243-9580-4560-8306-c274c7331ae6",
   "metadata": {},
   "source": [
    "Вычисляет число Рейнольдса по общей плотности и общей вязкости среды. Есть 2 реализации, одна- с параметрами, вторая – со структурой, эти 2 реализации не отличаются ничем, кроме способа хранения данных. На вход подаются общая вязкость среды, общая плотность среды, диаметр трубы и скорость среды. Вычисление происходит по формуле:\n",
    "$$\n",
    "Re=\\frac{v\\cdot D\\cdot\\rho}{\\mu}\n",
    "$$"
   ]
  },
  {
   "cell_type": "code",
   "execution_count": 35,
   "id": "400e7a5f-bafb-4beb-af3e-604de3eaf11e",
   "metadata": {
    "ExecuteTime": {
     "end_time": "2023-10-23T13:55:47.994039200Z",
     "start_time": "2023-10-23T13:55:47.855017900Z"
    }
   },
   "outputs": [
    {
     "name": "stdout",
     "output_type": "stream",
     "text": [
      "Re : 111887323.94366197\n"
     ]
    }
   ],
   "source": [
    "def calculate_Re(velocity, diameter, overall_density, overall_viscosity):\n",
    "    return velocity * diameter * overall_density / overall_viscosity\n",
    "\n",
    "print(\"Re : \"+str(calculate_Re(5.0, 0.08, 198.6, 7.1e-07)))"
   ]
  },
  {
   "cell_type": "markdown",
   "id": "476494c4-666e-4e07-a11a-484e333b56d3",
   "metadata": {},
   "source": [
    "### Функция calculate_lambda"
   ]
  },
  {
   "cell_type": "markdown",
   "id": "934c82ea-706a-4e2d-9908-5c34cedb9670",
   "metadata": {},
   "source": [
    "Вычисляет коэффициент трения для потерь по длине. Реализация одна. Реализовано без оглядки на режимы многофазного течения, но с простейшим учетом ламинарного и турбулентного режимов течения в трубе. На вход подаётся значение числа Рейнольдса. Далее вычисление происходит по формуле:\n",
    "$$\n",
    "\\lambda=\\begin{cases}\\frac{64}{Re}  если  Re<2300\\\\ \\frac{0.316}{Re^{0.25}}  если  Re≥2300\\end{cases}\n",
    "$$"
   ]
  },
  {
   "cell_type": "code",
   "execution_count": 36,
   "id": "23eefbed-9640-4e41-84d8-032dd5d1223a",
   "metadata": {
    "ExecuteTime": {
     "end_time": "2023-10-23T13:55:48.010113400Z",
     "start_time": "2023-10-23T13:55:47.873239900Z"
    }
   },
   "outputs": [
    {
     "name": "stdout",
     "output_type": "stream",
     "text": [
      "Lambda : 0.0030724997835867044\n"
     ]
    }
   ],
   "source": [
    "def calculate_lambda(Re):\n",
    "    if Re < 2300:\n",
    "        return 64 / Re\n",
    "    else:\n",
    "        return 0.316 / (Re ** 0.25)\n",
    "\n",
    "print(\"Lambda : \"+str(calculate_lambda(111887323.9)))"
   ]
  },
  {
   "cell_type": "markdown",
   "id": "17a071cb-a264-49ad-9b7d-ce3eb4be99c0",
   "metadata": {},
   "source": [
    "### Функция return_pressure_loss"
   ]
  },
  {
   "cell_type": "markdown",
   "id": "1e33b6fc-a368-4743-a8a2-2a213814e74c",
   "metadata": {},
   "source": [
    "Вычисляет потери по длине. Реализация одна. На вход подается значение коэффициента трения, скорость, плотность, диаметр трубы и длина участка трубы. Далее вычисление происходит по формуле:\n",
    "$$\n",
    "\\begin{cases}ξ=\\frac{λ⋅L}{D}\\\\ΔP=ξ⋅\\frac{ρV^2}{ 2}\\end{cases}\n",
    "$$"
   ]
  },
  {
   "cell_type": "code",
   "execution_count": 37,
   "id": "871cc7e4-cbaf-4340-812a-fb5190b7994b",
   "metadata": {
    "ExecuteTime": {
     "end_time": "2023-10-23T13:55:48.010113400Z",
     "start_time": "2023-10-23T13:55:47.888193900Z"
    }
   },
   "outputs": [
    {
     "name": "stdout",
     "output_type": "stream",
     "text": [
      "Pressure loss : 9309.375\n"
     ]
    }
   ],
   "source": [
    "def return_pressure_loss(velocity, diameter, length, lam, density):\n",
    "    xi = lam * length / diameter\n",
    "    return (xi * velocity ** 2) * 0.5 * density\n",
    "\n",
    "print(\"Pressure loss : \"+str(return_pressure_loss(5.0, 0.08, 100, 0.003, 198.6)))"
   ]
  },
  {
   "cell_type": "markdown",
   "id": "f56f3e3d-52de-4878-aee9-ff55b1baca4f",
   "metadata": {},
   "source": [
    "### Функция return_mode"
   ]
  },
  {
   "cell_type": "markdown",
   "id": "a04a70ef-b7c0-4bbd-8328-2f856f380f19",
   "metadata": {},
   "source": [
    "По значению xtt выводит строку с режимом течения. Реализация одна.\n",
    "На вход подаётся параметр xtt."
   ]
  },
  {
   "cell_type": "code",
   "execution_count": 38,
   "id": "aaaf8a28-9c0a-4a5c-9ae7-86f6e5e41893",
   "metadata": {
    "ExecuteTime": {
     "end_time": "2023-10-23T13:55:48.012776100Z",
     "start_time": "2023-10-23T13:55:47.906281Z"
    }
   },
   "outputs": [
    {
     "name": "stdout",
     "output_type": "stream",
     "text": [
      "Mode : bubble\n"
     ]
    }
   ],
   "source": [
    "def return_mode(xtt):\n",
    "    if xtt < 10: return 'bubble'\n",
    "    if 10 <= xtt < 100:\n",
    "        return 'plug'\n",
    "    if 100 <= xtt < 1000:\n",
    "        return 'slug'\n",
    "    if 1000 <= xtt < 10000:\n",
    "        return 'annular'\n",
    "    if 10000 <= xtt:\n",
    "        return 'mist'\n",
    "    return 'undefined'\n",
    "print(\"Mode : \"+str(return_mode(7.6)))"
   ]
  },
  {
   "cell_type": "markdown",
   "id": "8edb388a-997b-4a6e-98b1-813af563d881",
   "metadata": {},
   "source": [
    "### Функция return_friction_factor"
   ]
  },
  {
   "cell_type": "markdown",
   "id": "ec0fdce2-8918-4925-a212-50a0eb27df4e",
   "metadata": {},
   "source": [
    "По значению xtt выводит friction factor для расчёта вязкости. **Значения для разных режимов взяты с потолка.** На вход подаётся параметр xtt."
   ]
  },
  {
   "cell_type": "code",
   "execution_count": 39,
   "id": "167fb060-723e-4ba3-a276-c751d110b2b5",
   "metadata": {
    "ExecuteTime": {
     "end_time": "2023-10-23T13:55:48.012776100Z",
     "start_time": "2023-10-23T13:55:47.921642100Z"
    }
   },
   "outputs": [
    {
     "name": "stdout",
     "output_type": "stream",
     "text": [
      "Friction factor : 1\n"
     ]
    }
   ],
   "source": [
    "def return_friction_factor(xtt):\n",
    "    \"\"\"\n",
    "    Outputs the friction factor to calculate the viscosity.\n",
    "    :param xtt:\n",
    "    :return:\n",
    "    \"\"\"\n",
    "    if xtt < 10:\n",
    "        return 1\n",
    "    if 10 <= xtt < 100:\n",
    "        return 0.9\n",
    "    if 100 <= xtt < 1000:\n",
    "        return 0.8\n",
    "    if 1000 <= xtt < 10000:\n",
    "        return 0.7\n",
    "    if 10000 <= xtt:\n",
    "        return 0.6\n",
    "    return 0\n",
    "print(\"Friction factor : \"+str(return_friction_factor(7.6)))"
   ]
  },
  {
   "cell_type": "markdown",
   "id": "d65383f0-9167-448f-817a-ecec551bf92f",
   "metadata": {},
   "source": [
    "### Функция ethanol_viscosity_from_temperature"
   ]
  },
  {
   "cell_type": "markdown",
   "id": "699c5c4b-18eb-46c0-85a5-a8e70dfa4910",
   "metadata": {},
   "source": [
    "Вычисление вязкости жидкого этанола в зависимости от температуры по экспоненциальной корреляции. Функция является временной и должна быть заменена на более общую корреляцию. На вход подаётся температура, на выходе – вязкость в Па*с. Постоянные для этанола зашиты внутрь самой функции:\n",
    "$$\n",
    "\\mu_{Ethanol}=A\\exp{\\left(\\frac{B}{T}+CT+DT^2\\right)}\n",
    "$$\n",
    "$$\n",
    "\\begin{cases}A = 0.00201 mPa⋅s\\\\B = 1614\\cdot K\\\\C = 0.00618\\cdot K-1\\\\D = -1.132⋅10^{-5}\\cdot K^{-2}\\end{cases}\n",
    "$$"
   ]
  },
  {
   "cell_type": "code",
   "execution_count": 40,
   "id": "08274079-d89a-4101-bd30-b86fc7a20b2e",
   "metadata": {
    "ExecuteTime": {
     "end_time": "2023-10-23T13:55:48.012776100Z",
     "start_time": "2023-10-23T13:55:47.937015300Z"
    }
   },
   "outputs": [
    {
     "name": "stdout",
     "output_type": "stream",
     "text": [
      "Ethanol viscosity : 8.77334610818247e-07\n"
     ]
    }
   ],
   "source": [
    "def ethanol_viscosity_from_temperature(T):\n",
    "    A = 0.00201 * 1e-6\n",
    "    B = 1614\n",
    "    C = 0.00618\n",
    "    D = 1.132 * (-1e-5)\n",
    "    return A * math.exp(B / T + C * T + D * T * T)\n",
    "    \n",
    "print(\"Ethanol viscosity : \"+str(ethanol_viscosity_from_temperature(307.5)))"
   ]
  },
  {
   "cell_type": "markdown",
   "id": "e7c968e1-230d-401f-ab43-e7b53e6ae002",
   "metadata": {},
   "source": [
    "### Функция n2_viscosity_from_temperature"
   ]
  },
  {
   "cell_type": "markdown",
   "id": "390fb0c3-e97c-4b22-be0e-63d627a9e26d",
   "metadata": {},
   "source": [
    "вычисление вязкости газообразного азота в зависимости от температуры по формуле Сазерленда.  Функция является временной и должна быть заменена на более общую корреляцию. На вход подаётся температура, на выходе – вязкость в Па*с. Постоянные для азота зашиты внутрь самой функции:\n",
    "$$\n",
    "\\mu_{Nitrogen}=\\mu_0\\left(\\frac{T}{T_0}\\right)^\\frac{3}{2}\\cdot\\frac{T_0+S}{T+S}\n",
    "$$\n",
    "$$\n",
    "\\begin{cases}μ0=1.7⋅10-5 Pa⋅s\\\\ T0=273 K\\\\S=104.7 K \\end{cases}\n",
    "$$"
   ]
  },
  {
   "cell_type": "code",
   "execution_count": 41,
   "id": "54bf3b36-fa8d-4c8d-bf76-32da2f4db3fa",
   "metadata": {
    "ExecuteTime": {
     "end_time": "2023-10-23T13:55:48.012776100Z",
     "start_time": "2023-10-23T13:55:47.950826800Z"
    }
   },
   "outputs": [
    {
     "name": "stdout",
     "output_type": "stream",
     "text": [
      "Nitrogen viscosity : 1.8621369952874267e-05\n"
     ]
    }
   ],
   "source": [
    "def n2_viscosity_from_temperature(T):\n",
    "    VISCOSITY_INIT = 1.7e-5\n",
    "    T_INIT = 273\n",
    "    S = 104.7\n",
    "    return (VISCOSITY_INIT * (T / T_INIT) ** 1.5) * (T_INIT + S) / (T + S)\n",
    "\n",
    "print(\"Nitrogen viscosity : \"+str(n2_viscosity_from_temperature(307.5)))"
   ]
  },
  {
   "cell_type": "markdown",
   "id": "535f837a-d149-47cd-b94a-9ee08f47671d",
   "metadata": {},
   "source": [
    "### Функция start_point и fill_variables_from_json"
   ]
  },
  {
   "cell_type": "markdown",
   "id": "c05110bb-36c7-4a54-b3d5-b3461c86f0eb",
   "metadata": {},
   "source": [
    "Инициализация и заполнение структуры данных начальными параметрами. Аналог функции pvt_block, но для первой итерации. Заполняется из файла."
   ]
  },
  {
   "cell_type": "code",
   "execution_count": 42,
   "id": "c55a0461-4cc9-4a24-abda-857eecb5c68c",
   "metadata": {
    "ExecuteTime": {
     "end_time": "2023-10-23T13:55:48.012776100Z",
     "start_time": "2023-10-23T13:55:47.962607200Z"
    }
   },
   "outputs": [],
   "source": [
    "def start_point(point: Tube_point, path: str):\n",
    "\n",
    "    fill_variables_from_json(path, point)\n",
    "    point.update_point_state()\n",
    "    return point\n",
    "\n",
    "\n",
    "def fill_variables_from_json(json_file, point):\n",
    "    with open(json_file, 'r') as file:\n",
    "        data = json.load(file)\n",
    "\n",
    "    point.temperature = data.get('temperature', point.temperature)\n",
    "    point.pressure = data.get('pressure', point.pressure)\n",
    "    point.molar_composition = data.get('molar_composition', point.molar_composition)\n",
    "    point.molar_masses = data.get('molar_masses', point.molar_masses)\n",
    "    point.velocity = data.get('velocity', point.velocity)\n",
    "    point.diameter = data.get('diameter', point.diameter)\n",
    "    point.length = data.get('length', point.length)"
   ]
  },
  {
   "cell_type": "markdown",
   "id": "1f9e50b5-4a3b-4389-9619-4ae00b9ce357",
   "metadata": {},
   "source": [
    "### Функция define_tube_params"
   ]
  },
  {
   "cell_type": "markdown",
   "id": "70574625-ff46-45e1-b9d7-12a0718a4d0f",
   "metadata": {},
   "source": [
    "функция, задающая в структуре данных параметры трубы и пересчитывающая скорость через сохранение расхода. Принимает объект структуры данных, диаметр трубы и длину участка, а так же плотность на предыдущем шаге. Расход на предыдущем шаге вычисляется как:\n",
    "$$\n",
    "{Q^\\prime}_{i-1}=4\\cdot\\frac{Q_{i-1}}{\\pi}=v_{i-1}\\cdot D_{i-1}^2\\cdot\\rho_{i-1}\n",
    "$$\n",
    "Тогда скорость из расхода (при учете его сохранения, т.е. выполнения уравнения неразрывности:)\n",
    "$$\n",
    "Q_{i-1}^\\prime=Q_i^\\prime\\rightarrow v_i=\\frac{Q_i^\\prime}{D_i^2\\cdot\\rho_i}\\ \n",
    "$$"
   ]
  },
  {
   "cell_type": "code",
   "execution_count": 43,
   "id": "5d292c6c-184f-4e90-8344-a565a7b5738a",
   "metadata": {
    "ExecuteTime": {
     "end_time": "2023-10-23T13:55:48.012776100Z",
     "start_time": "2023-10-23T13:55:47.978240500Z"
    }
   },
   "outputs": [
    {
     "name": "stdout",
     "output_type": "stream",
     "text": [
      "Ethanol viscosity : Tube_point(name='mixture', phase_name=['gas'], number_of_fluids=1, temperature=320.0, pressure=354637.5, velocity=67.5, diameter=0.08, length=100, molar_composition=[0.5, 0.5], molar_masses=[0.03, 0.28], vapor_components=[0.5], liquid_components=[0.5], components_density=[1.0], overall_density=1.0, overall_vapor_fraction=0.5, overall_liquid_fraction=0.5, liquid_viscosities=[0.001], vapor_viscosities=[0.001], liquid_overall_viscosity=0.001, vapor_overall_viscosity=0.001, overall_viscosity=0.001, flow_mode='bubble', flow_mode_key=1.0, flow_mode_friction_factor=1.0, reynolds_number=10000.0)\n"
     ]
    }
   ],
   "source": [
    "def define_tube_params(point: Tube_point, diameter, length, density_old):\n",
    "    q = point.velocity * point.diameter * point.diameter * density_old\n",
    "    new_velocity = q / (diameter * diameter * point.overall_density)  # mass balance, pi/4 is skipped\n",
    "    # due to presence in both parts of equation\n",
    "    point.diameter = diameter\n",
    "    point.length = length\n",
    "    point.velocity = new_velocity\n",
    "    return point\n",
    "\n",
    "print(\"Ethanol viscosity : \"+str(define_tube_params(point,0.08, 100, 13.5)))"
   ]
  },
  {
   "cell_type": "markdown",
   "id": "363c6264-5876-4a4c-8b71-ad2949b6be96",
   "metadata": {},
   "source": [
    "### Функция pvt_block"
   ]
  },
  {
   "cell_type": "markdown",
   "id": "f7a595ee-62c6-4c0e-8e55-a3bbf6318fc8",
   "metadata": {},
   "source": [
    "Основная рабочая функция. Меняет основные показатели и обновляет состояние отрезка трубы."
   ]
  },
  {
   "cell_type": "code",
   "execution_count": 44,
   "id": "c4608d6c-3a41-44f6-8a0f-c8999cb44bf0",
   "metadata": {
    "scrolled": true,
    "ExecuteTime": {
     "end_time": "2023-10-23T13:55:48.012776100Z",
     "start_time": "2023-10-23T13:55:47.994039200Z"
    }
   },
   "outputs": [
    {
     "data": {
      "text/plain": "Tube_point(name='mixture', phase_name=['gas'], number_of_fluids=1, temperature=400000, pressure=310.5, velocity=67.5, diameter=0.08, length=100, molar_composition=[0.5, 0.5], molar_masses=[0.03, 0.28], vapor_components=array([0.5, 0.5]), liquid_components=array([0., 0.]), components_density=[2.8008425108725974e-06, 2.6141196768144248e-05], overall_density=1.4004212554362987e-06, overall_vapor_fraction=-1.0, overall_liquid_fraction=-1.0, liquid_viscosities=[0.0, 0.0009000533850548925], vapor_viscosities=[0.0, 0.0009000533850548925], liquid_overall_viscosity=0.001, vapor_overall_viscosity=0.001, overall_viscosity=0.001, flow_mode='bubble', flow_mode_key=1.0, flow_mode_friction_factor=1.0, reynolds_number=10000.0)"
     },
     "execution_count": 44,
     "metadata": {},
     "output_type": "execute_result"
    }
   ],
   "source": [
    "def pvt_block(point: Tube_point, new_pressure, new_temperature):\n",
    "    point.temperature = new_temperature\n",
    "    point.pressure = new_pressure\n",
    "    point.update_point_state()\n",
    "    return point\n",
    "pvt_block(point, 310.5, 400000)"
   ]
  },
  {
   "cell_type": "markdown",
   "id": "2ac3e89a-571d-4c45-90bc-eeec52aded18",
   "metadata": {},
   "source": [
    "## Исполнение"
   ]
  },
  {
   "cell_type": "markdown",
   "id": "0dff4539-8e47-46ad-bdfc-e0c92018b0ef",
   "metadata": {},
   "source": [
    "Функция main выглядит так"
   ]
  },
  {
   "cell_type": "code",
   "execution_count": 51,
   "id": "4128c49f-6e94-4bdd-8d73-13e24085921f",
   "metadata": {
    "ExecuteTime": {
     "end_time": "2023-10-23T14:01:29.278549600Z",
     "start_time": "2023-10-23T14:01:29.224021Z"
    }
   },
   "outputs": [
    {
     "name": "stdout",
     "output_type": "stream",
     "text": [
      "Found  bubble  flow_mode at 1 ! xtt=  1.0351388096966774\n",
      "Reynolds number for  1  is  112461849.56258014 lambda is  0.0030685681796535523\n",
      "P1:  354143.75 , T1:  319.7\n",
      "Found  bubble  flow_mode at 2 ! xtt=  1.0326423664700026\n",
      "Reynolds number for  2  is  111895195.09999605 lambda is  0.0030724457488753632\n",
      "P1:  353650.0 , T1:  319.09999999999997\n",
      "Found  bubble  flow_mode at 3 ! xtt=  1.027357042336603\n",
      "Reynolds number for  3  is  110768157.08520386 lambda is  0.0030802314447932015\n",
      "P1:  353156.25 , T1:  318.2\n",
      "Found  bubble  flow_mode at 4 ! xtt=  0.8543502212084051\n",
      "Reynolds number for  4  is  96971727.4438501 lambda is  0.003184386686917118\n",
      "P1:  352662.5 , T1:  317.0\n",
      "Found  bubble  flow_mode at 5 ! xtt=  0.8457077754402509\n",
      "Reynolds number for  5  is  95012251.2330759 lambda is  0.003200679442942756\n",
      "P1:  352168.75 , T1:  315.5\n",
      "Found  bubble  flow_mode at 6 ! xtt=  0.8352660231728324\n",
      "Reynolds number for  6  is  92603715.17640795 lambda is  0.003221291154069259\n",
      "P1:  351675.0 , T1:  313.7\n",
      "Found  bubble  flow_mode at 7 ! xtt=  0.8232486539538708\n",
      "Reynolds number for  7  is  89772530.27143613 lambda is  0.003246393918277838\n",
      "P1:  351181.25 , T1:  311.59999999999997\n",
      "Found  bubble  flow_mode at 8 ! xtt=  0.9663759494707155\n",
      "Reynolds number for  8  is  97368318.11257233 lambda is  0.0031811391428716064\n",
      "P1:  350687.5 , T1:  309.2\n",
      "Found  bubble  flow_mode at 9 ! xtt=  0.9490378419226451\n",
      "Reynolds number for  9  is  93341255.71843642 lambda is  0.003214908913933401\n",
      "P1:  350193.75 , T1:  306.5\n"
     ]
    }
   ],
   "source": [
    "point1 = Tube_point()\n",
    "point1.temperature = 320.0\n",
    "point1.pressure = 354637.5\n",
    "point1.molar_composition = [0.5,0.5]\n",
    "point1.molar_masses = [0.03,0.28]\n",
    "point1.velocity = 5.0\n",
    "point1.diameter = 0.08\n",
    "point1.length = 100\n",
    "point1.update_point_state()\n",
    "\n",
    "def main():\n",
    "    #point = Tube_point()\n",
    "    # start_point(point, path)\n",
    "    tube_diameters = [0.08, 0.08, 0.08, 0.09, 0.09, 0.09, 0.09, 0.08, 0.08, 0.1]\n",
    "    tube_lengths = [1000, 200, 450, 1000, 200, 300, 200, 300, 1000, 0]\n",
    "    tube_points = [point1]\n",
    "\n",
    "    re_nums = list()\n",
    "    list_p1 = list()\n",
    "    list_t1 = list()\n",
    "\n",
    "    for i in range(1, len(tube_diameters)):\n",
    "        xtt = tube_points[i - 1].calculate_xtt()\n",
    "        # print ('i', i, ' xtt ', xtt)\n",
    "        flow_mode = return_mode(xtt)\n",
    "        print('Found ', flow_mode, ' flow_mode at', i, '! xtt= ', xtt)\n",
    "        friction_factor = return_friction_factor(xtt)\n",
    "        tube_points[i - 1].overall_viscosity = calculate_viscosity(tube_points[i - 1].liquid_viscosities[0],\n",
    "                                                                   tube_points[i - 1].liquid_viscosities[1],\n",
    "                                                                   friction_factor)\n",
    "        tube_points[i - 1].reynolds_number = tube_points[i - 1].calculate_Re()\n",
    "        re_nums.append(tube_points[i - 1].reynolds_number)\n",
    "        print('Reynolds number for ', i, ' is ', tube_points[i - 1].reynolds_number, 'lambda is ',\n",
    "              calculate_lambda(tube_points[i - 1].reynolds_number))\n",
    "        diff = point.calculate_pressure_loss()\n",
    "        P1 = tube_points[i - 1].pressure - diff\n",
    "        T1 = tube_points[i - 1].temperature - i * 0.3\n",
    "        list_p1.append(P1)\n",
    "        list_t1.append(T1)\n",
    "        print('P1: ', P1, ', T1: ', T1)\n",
    "        next_point = copy.deepcopy(tube_points[i - 1])\n",
    "\n",
    "        density = next_point.overall_density\n",
    "        next_point = pvt_block(next_point, P1, T1)\n",
    "        next_point = define_tube_params(next_point, tube_diameters[i], tube_lengths[i], density)\n",
    "\n",
    "        tube_points.append(next_point)\n",
    "main()"
   ]
  },
  {
   "cell_type": "code",
   "execution_count": null,
   "id": "08e493ea-d814-4160-bdf4-7a0ce11dcad8",
   "metadata": {
    "ExecuteTime": {
     "start_time": "2023-10-23T13:55:48.074707900Z"
    }
   },
   "outputs": [],
   "source": []
  }
 ],
 "metadata": {
  "kernelspec": {
   "display_name": "Python 3 (ipykernel)",
   "language": "python",
   "name": "python3"
  },
  "language_info": {
   "codemirror_mode": {
    "name": "ipython",
    "version": 3
   },
   "file_extension": ".py",
   "mimetype": "text/x-python",
   "name": "python",
   "nbconvert_exporter": "python",
   "pygments_lexer": "ipython3",
   "version": "3.11.4"
  }
 },
 "nbformat": 4,
 "nbformat_minor": 5
}
